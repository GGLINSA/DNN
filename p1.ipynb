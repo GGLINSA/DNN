{
  "nbformat": 4,
  "nbformat_minor": 0,
  "metadata": {
    "colab": {
      "provenance": []
    },
    "kernelspec": {
      "name": "python3",
      "display_name": "Python 3"
    },
    "language_info": {
      "name": "python"
    }
  },
  "cells": [
    {
      "cell_type": "code",
      "execution_count": null,
      "metadata": {
        "id": "ZTxxoP-ZiPIh"
      },
      "outputs": [],
      "source": [
        "import pandas as pd\n",
        "import numpy as np\n",
        "import logging\n",
        "import tensorflow as tf\n",
        "import warnings\n",
        "from glob import glob\n",
        "import tqdm\n",
        "import cv2\n",
        "import os\n",
        "import matplotlib.pyplot as plt"
      ]
    },
    {
      "cell_type": "code",
      "source": [
        "from tqdm import tqdm \n",
        "from IPython import display \n",
        "import seaborn as sns\n",
        "from seaborn import heatmap\n",
        "from keras.utils.vis_utils import plot_model"
      ],
      "metadata": {
        "id": "Um3K97Dciahu"
      },
      "execution_count": null,
      "outputs": []
    },
    {
      "cell_type": "code",
      "source": [
        "import glob"
      ],
      "metadata": {
        "id": "UaLT5IOmitNJ"
      },
      "execution_count": null,
      "outputs": []
    },
    {
      "cell_type": "code",
      "source": [
        "from sklearn.model_selection import train_test_split\n",
        "from sklearn.metrics import confusion_matrix, classification_report\n",
        "from skimage.io import imread, imshow\n",
        "from skimage.transform import resize\n",
        "from keras.preprocessing.image import ImageDataGenerator"
      ],
      "metadata": {
        "id": "aRse4kM8ix-F"
      },
      "execution_count": null,
      "outputs": []
    },
    {
      "cell_type": "code",
      "source": [
        "# convolution layers & core layers\n",
        "from keras.models import Sequential, load_model\n",
        "from keras.layers import Conv2D, Lambda, MaxPooling2D, Dense, Dropout, Flatten"
      ],
      "metadata": {
        "id": "7qApE7zGi9dN"
      },
      "execution_count": null,
      "outputs": []
    },
    {
      "cell_type": "code",
      "source": [
        "from tensorflow import keras"
      ],
      "metadata": {
        "id": "Hx6BjxRei9kT"
      },
      "execution_count": null,
      "outputs": []
    },
    {
      "cell_type": "code",
      "source": [
        "from keras.utils.np_utils import to_categorical\n",
        "from keras_preprocessing.image import load_img, img_to_array\n",
        "from keras.callbacks import EarlyStopping, ModelCheckpoint, History\n",
        "from keras.layers import Conv2D, MaxPooling2D, Activation, Dropout, Flatten, Dense, BatchNormalization"
      ],
      "metadata": {
        "id": "iaMJNasti9m9"
      },
      "execution_count": null,
      "outputs": []
    },
    {
      "cell_type": "code",
      "source": [
        "# vgg16\n",
        "from keras.applications.vgg16 import VGG16"
      ],
      "metadata": {
        "id": "pl8dPPLui9pW"
      },
      "execution_count": null,
      "outputs": []
    },
    {
      "cell_type": "code",
      "source": [
        "# Inception V3\n",
        "from keras.applications.inception_v3 import InceptionV3"
      ],
      "metadata": {
        "id": "G2YKut-Ii9sx"
      },
      "execution_count": null,
      "outputs": []
    },
    {
      "cell_type": "code",
      "source": [
        "from google.colab import drive\n",
        "drive.mount('/content/drive')"
      ],
      "metadata": {
        "id": "7_u62jtrjPnN"
      },
      "execution_count": null,
      "outputs": []
    },
    {
      "cell_type": "code",
      "source": [
        "# Resnet\n",
        "from tf.keras.applications.resnet50 import ResNet50"
      ],
      "metadata": {
        "id": "DHEvCgYWjPxd"
      },
      "execution_count": null,
      "outputs": []
    },
    {
      "cell_type": "code",
      "source": [
        "# Directory paths for importing data\n",
        "\n",
        "train_path = \"/content/drive/MyDrive/Deep_Learning/Mini_Project_CT1/Project/TRAIN/\"\n",
        "test_path = \"/content/drive/MyDrive/Deep_Learning/Mini_Project_CT1/Project/TEST/\""
      ],
      "metadata": {
        "id": "wbOwQDRVjP0x"
      },
      "execution_count": null,
      "outputs": []
    },
    {
      "cell_type": "code",
      "source": [
        "x_data = []\n",
        "y_data = []"
      ],
      "metadata": {
        "id": "z9JH95UEjP6Q"
      },
      "execution_count": null,
      "outputs": []
    },
    {
      "cell_type": "code",
      "source": [
        "for category in glob(train_path+'/*'):\n",
        "    for file in tqdm(glob(category+'/*')):\n",
        "        img_array=cv2.imread(file)\n",
        "        img_array = cv2.cvtColor(img_array, cv2.COLOR_BGR2RGB)\n",
        "        x_data.append(img_array) \n",
        "        y_data.append(category.split(\"/\")[-1])\n",
        "        \n",
        "data=pd.DataFrame({'image': x_data,'label': y_data})"
      ],
      "metadata": {
        "id": "VsILrv3Ojcyh"
      },
      "execution_count": null,
      "outputs": []
    },
    {
      "cell_type": "code",
      "source": [
        "# Os path join (train)\n",
        "\n",
        "train_o = glob.glob(os.path.join(train_path, 'O', '*.jpg'))\n",
        "train_r = glob.glob(os.path.join(test_path, 'R', '*.jpg'))\n",
        "\n",
        "a = len(train_o)\n",
        "b = len(train_r)\n",
        "\n",
        "print(\"Number of training samples: {}\".format(a+b))"
      ],
      "metadata": {
        "id": "WJ3RjMKYjc7-"
      },
      "execution_count": null,
      "outputs": []
    },
    {
      "cell_type": "code",
      "source": [
        "# Datagenerators\n",
        "\n",
        "train_datagen = ImageDataGenerator(rescale = 1.0 / 255.0,\n",
        "                                   zoom_range = 0.4,\n",
        "                                   rotation_range = 10,\n",
        "                                   horizontal_flip = True,\n",
        "                                   vertical_flip = True,\n",
        "                                   validation_split = 0.2)\n",
        "\n",
        "valid_datagen = ImageDataGenerator(rescale = 1.0 / 255.0,\n",
        "                                   validation_split = 0.2)\n",
        "\n",
        "test_datagen  = ImageDataGenerator(rescale = 1.0 / 255.0)"
      ],
      "metadata": {
        "id": "x6w2BNqkjc_k"
      },
      "execution_count": null,
      "outputs": []
    },
    {
      "cell_type": "code",
      "source": [
        "train_generator = train_datagen.flow_from_directory(\n",
        "        train_path, \n",
        "        target_size= (224,224),\n",
        "        batch_size = 32,\n",
        "        color_mode= \"rgb\",\n",
        "        class_mode= \"categorical\")"
      ],
      "metadata": {
        "id": "zwkH-geUjdB4"
      },
      "execution_count": null,
      "outputs": []
    },
    {
      "cell_type": "code",
      "source": [
        "test_generator = test_datagen.flow_from_directory(\n",
        "        test_path, \n",
        "        target_size= (224,224),\n",
        "        batch_size = 32,\n",
        "        color_mode= \"rgb\",\n",
        "        class_mode= \"categorical\")"
      ],
      "metadata": {
        "id": "mSI1C5oejdEf"
      },
      "execution_count": null,
      "outputs": []
    },
    {
      "cell_type": "code",
      "source": [
        "print(train_generator.class_indices)\n",
        "print(test_generator.class_indices)"
      ],
      "metadata": {
        "id": "dahLYkNqjdIA"
      },
      "execution_count": null,
      "outputs": []
    },
    {
      "cell_type": "code",
      "source": [
        "colors = ['#DC143C','#00FF00']\n",
        "plt.pie(data.label.value_counts(),startangle=90,explode=[0.05,0.05],autopct='%0.2f%%',\n",
        "        labels=['Organic', 'Recyclable'], colors= colors,radius=2)\n",
        "plt.show()"
      ],
      "metadata": {
        "id": "xVKDA0JGj2LQ"
      },
      "execution_count": null,
      "outputs": []
    },
    {
      "cell_type": "code",
      "source": [
        "className = glob(train_path + '/*' )\n",
        "numberOfClass = len(className)\n",
        "print(\"Number Of Class: \",numberOfClass)"
      ],
      "metadata": {
        "id": "3BIfQswhj2VZ"
      },
      "execution_count": null,
      "outputs": []
    },
    {
      "cell_type": "code",
      "source": [
        "# Viewing images\n",
        "\n",
        "fig, ax = plt.subplots(nrows = 2, ncols = 5, figsize = (12,6))\n",
        "#plt.subplots_adjust(hspace=0.55)\n",
        "\n",
        "for i in range(2):\n",
        "    for j in range(5):\n",
        "        rand1 = np.random.randint(len(train_generator))\n",
        "        rand2 = np.random.randint(32)\n",
        "        ax[i,j].imshow(train_generator[rand1][0][rand2])\n",
        "        ax[i,j].axis('off')\n",
        "        label = train_generator[rand1][1][rand2]\n",
        "        # print(label[0])\n",
        "        if label[0] == 0:\n",
        "            ax[i,j].set_title('Recycle Waste')\n",
        "        else:\n",
        "            ax[i,j].set_title('Organic Waste')\n",
        "\n",
        "plt.tight_layout\n",
        "plt.show()"
      ],
      "metadata": {
        "id": "zNjMiKG7j2Y_"
      },
      "execution_count": null,
      "outputs": []
    },
    {
      "cell_type": "code",
      "source": [
        "# Defining callbacks\n",
        "\n",
        "filepath = './final_model_weights.hdf5'\n",
        "\n",
        "earlystopping = EarlyStopping(monitor = 'val_auc', \n",
        "                              mode = 'max' , \n",
        "                              patience = 5,\n",
        "                              verbose = 1)\n",
        "\n",
        "checkpoint = ModelCheckpoint(filepath, \n",
        "                                monitor = 'val_auc', \n",
        "                                mode='max', \n",
        "                                save_best_only=True, \n",
        "                                verbose = 1)\n",
        "\n",
        "\n",
        "callback_list = [earlystopping, checkpoint]"
      ],
      "metadata": {
        "id": "UNgatSgqj2eT"
      },
      "execution_count": null,
      "outputs": []
    },
    {
      "cell_type": "code",
      "source": [
        "# Base model\n",
        "\n",
        "base_model = VGG16(input_shape=(32,32,3), \n",
        "                   include_top=False,\n",
        "                   weights=\"imagenet\")"
      ],
      "metadata": {
        "id": "EW7YY4T1kCpb"
      },
      "execution_count": null,
      "outputs": []
    },
    {
      "cell_type": "code",
      "source": [
        "# Freezing layers \n",
        "\n",
        "for layer in base_model.layers:\n",
        "    layer.trainable=False"
      ],
      "metadata": {
        "id": "_4hVnGk7kCwf"
      },
      "execution_count": null,
      "outputs": []
    },
    {
      "cell_type": "code",
      "source": [
        "# Show vgg model summary\n",
        "base_model.summary()"
      ],
      "metadata": {
        "id": "opuUaUzOkCzm"
      },
      "execution_count": null,
      "outputs": []
    },
    {
      "cell_type": "code",
      "source": [
        "resnet_model = ResNet50(weights= 'imagenet',\n",
        "                        include_top=False, \n",
        "                        input_shape= (32,32,3))"
      ],
      "metadata": {
        "id": "1FGHdTbtkC3G"
      },
      "execution_count": null,
      "outputs": []
    },
    {
      "cell_type": "code",
      "source": [
        "# Freezing layers \n",
        "\n",
        "for layer in resnet_model.layers:\n",
        "    layer.trainable=False"
      ],
      "metadata": {
        "id": "k9QCWsrYkRWW"
      },
      "execution_count": null,
      "outputs": []
    },
    {
      "cell_type": "code",
      "source": [
        "# Show ResNet50 model summary\n",
        "base_model.summary()"
      ],
      "metadata": {
        "id": "_z5t1Y9nkWMz"
      },
      "execution_count": null,
      "outputs": []
    },
    {
      "cell_type": "code",
      "source": [
        "model = Sequential()\n",
        "\n",
        "model.add(Conv2D(32,(3,3),input_shape = (32,32,3)))\n",
        "model.add(Activation(\"relu\"))\n",
        "model.add(MaxPooling2D())\n",
        "\n",
        "model.add(Conv2D(64,(3,3)))  \n",
        "model.add(Activation(\"relu\"))\n",
        "model.add(MaxPooling2D())\n",
        "\n",
        "\n",
        "model.add(Dense(128))\n",
        "model.add(Activation(\"relu\"))\n",
        "model.add(Dropout(0.5))\n",
        "model.add(Dense(numberOfClass)) # output\n",
        "model.add(Activation(\"sigmoid\"))\n",
        "\n",
        "\n",
        "batch_size = 256"
      ],
      "metadata": {
        "id": "EVRSWlpHkbFT"
      },
      "execution_count": null,
      "outputs": []
    },
    {
      "cell_type": "code",
      "source": [
        "# Model fit (training)\n",
        "\n",
        "model.compile(loss=\"categorical_crossentropy\", optimizer=\"adam\", metrics=[tf.keras.metrics.AUC(name = 'auc')])\n",
        "model_history = model.fit(train_ds, epochs=20, validation_data=valid_ds, callbacks = callback_list, verbose = 1)"
      ],
      "metadata": {
        "id": "X3HfvcfOkg1z"
      },
      "execution_count": null,
      "outputs": []
    },
    {
      "cell_type": "code",
      "source": [
        "plot_model(model)"
      ],
      "metadata": {
        "id": "yD5NnF9tkhBv"
      },
      "execution_count": null,
      "outputs": []
    },
    {
      "cell_type": "code",
      "source": [
        "train_datagen = ImageDataGenerator(rescale= 1./255)"
      ],
      "metadata": {
        "id": "FGS2g56zkbIs"
      },
      "execution_count": null,
      "outputs": []
    },
    {
      "cell_type": "code",
      "source": [
        "test_datagen = ImageDataGenerator(rescale= 1./255)"
      ],
      "metadata": {
        "id": "Mb92IJK1kbLm"
      },
      "execution_count": null,
      "outputs": []
    },
    {
      "cell_type": "code",
      "source": [
        "train_generator = train_datagen.flow_from_directory(\n",
        "        train_path, \n",
        "        target_size= (224,224),\n",
        "        batch_size = batch_size,\n",
        "        color_mode= \"rgb\",\n",
        "        class_mode= \"categorical\")"
      ],
      "metadata": {
        "id": "zvUy3beukbNv"
      },
      "execution_count": null,
      "outputs": []
    },
    {
      "cell_type": "code",
      "source": [
        "test_generator = test_datagen.flow_from_directory(\n",
        "        test_path, \n",
        "        target_size= (224,224),\n",
        "        batch_size = batch_size,\n",
        "        color_mode= \"rgb\",\n",
        "        class_mode= \"categorical\""
      ],
      "metadata": {
        "id": "NtUqz0m8kbRD"
      },
      "execution_count": null,
      "outputs": []
    },
    {
      "cell_type": "code",
      "source": [
        "# Iterate thru all the layers of the model\n",
        "\n",
        "for layer in base_model.layers:\n",
        "    if 'conv' in layer.name:\n",
        "        weights, bias= layer.get_weights()\n",
        "        # filters, biases = layer.get_weights()\n",
        "        print(layer.name)\n",
        "        # print(layer.name, filters.shape)\n",
        "        # normalize filter values between  0 and 1 for visualization\n",
        "        f_min, f_max = weights.min(), weights.max()\n",
        "        filters = (weights - f_min) / (f_max - f_min)  \n",
        "        print(filters.shape[3])\n",
        "        filter_cnt=1\n",
        "        # plotting all the filters\n",
        "        for i in range(filters.shape[3]):\n",
        "            # get the filters\n",
        "            filt=filters[:,:,:, i]\n",
        "            # plotting each of the channel, color image RGB channels\n",
        "            for j in range(filters.shape[0]):\n",
        "                ax = plt.subplot(filters.shape[3], filters.shape[0], filter_cnt)\n",
        "                ax.set_xticks([])\n",
        "                ax.set_yticks([])\n",
        "                plt.imshow(filt[:,:, j])\n",
        "                filter_cnt+=1\n",
        "        plt.show()"
      ],
      "metadata": {
        "id": "bnMzfxW9k0Ly"
      },
      "execution_count": null,
      "outputs": []
    }
  ]
}